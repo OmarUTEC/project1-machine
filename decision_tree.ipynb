{
 "cells": [
  {
   "cell_type": "markdown",
   "metadata": {},
   "source": [
    "# Decision Tree using Scikit Learn"
   ]
  },
  {
   "cell_type": "code",
   "execution_count": 72,
   "metadata": {},
   "outputs": [],
   "source": [
    "from sklearn.tree import DecisionTreeClassifier\n",
    "import numpy as np\n",
    "import pandas as pd\n",
    "from sklearn.model_selection import train_test_split, cross_val_score\n",
    "from sklearn import tree\n",
    "from sklearn.metrics import accuracy_score, confusion_matrix, precision_score\n",
    "import matplotlib.pyplot as plt"
   ]
  },
  {
   "cell_type": "code",
   "execution_count": 76,
   "metadata": {},
   "outputs": [],
   "source": [
    "def train_test_validation_split(x: pd.DataFrame, y: pd.Series, train_size: float, test_size: float, validation_size: float) -> tuple[pd.DataFrame, pd.DataFrame, pd.DataFrame, pd.Series, pd.Series, pd.Series]:\n",
    "    x_train, x_test, y_train, y_test = train_test_split(x, y, train_size=train_size, test_size=test_size + validation_size)\n",
    "    x_test, x_validation, y_test, y_validation = train_test_split(x_test, y_test, train_size=test_size / (test_size + validation_size), test_size=validation_size / (test_size + validation_size))\n",
    "    return x_train, x_test, x_validation, y_train, y_test, y_validation"
   ]
  },
  {
   "cell_type": "code",
   "execution_count": 78,
   "metadata": {},
   "outputs": [
    {
     "name": "stdout",
     "output_type": "stream",
     "text": [
      "0.304\n",
      "[[2 0 0 1 2 2 1 1 0 0]\n",
      " [4 4 1 2 0 0 0 0 2 1]\n",
      " [0 2 3 2 0 1 1 0 1 0]\n",
      " [2 1 3 3 3 2 0 0 1 2]\n",
      " [4 1 2 4 2 1 1 0 4 1]\n",
      " [0 0 2 1 0 6 1 0 1 1]\n",
      " [1 1 1 1 1 1 5 0 2 1]\n",
      " [0 0 0 0 0 1 1 5 0 0]\n",
      " [0 0 2 1 1 2 0 0 3 0]\n",
      " [0 1 0 0 1 2 1 0 3 5]]\n",
      "0.3420360032124738\n"
     ]
    }
   ],
   "source": [
    "df = pd.read_csv('Vectores_Caracteristicos_Mariposas.csv')\n",
    "x = df.drop('Etiqueta', axis=1)\n",
    "y = df['Etiqueta']\n",
    "set\n",
    "# 70 % para entrenamiento, 15 % para validacion y 15 % para testing\n",
    "x_train, x_test, x_validation, y_train, y_test, y_validation = train_test_validation_split(x, y, train_size=0.7, test_size=0.15, validation_size=0.15)\n",
    "\n",
    "clf = DecisionTreeClassifier(criterion=\"entropy\")\n",
    "clf.fit(x_train,y_train)\n",
    "clf.score(x_test,y_test)\n",
    "print(accuracy_score(y_test, clf.predict(x_test)))\n",
    "print(confusion_matrix(y_test, clf.predict(x_test)))\n",
    "print(precision_score(y_test, clf.predict(x_test), average='macro'))\n",
    "\n",
    "# tree.plot_tree(clf, filled=True)\n",
    "\n",
    "# plt.savefig('tree.png', dpi=1200)\n"
   ]
  }
 ],
 "metadata": {
  "kernelspec": {
   "display_name": "Python 3",
   "language": "python",
   "name": "python3"
  },
  "language_info": {
   "codemirror_mode": {
    "name": "ipython",
    "version": 3
   },
   "file_extension": ".py",
   "mimetype": "text/x-python",
   "name": "python",
   "nbconvert_exporter": "python",
   "pygments_lexer": "ipython3",
   "version": "3.11.5"
  },
  "orig_nbformat": 4
 },
 "nbformat": 4,
 "nbformat_minor": 2
}
