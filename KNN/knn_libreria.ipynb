{
 "cells": [
  {
   "cell_type": "code",
   "execution_count": 5,
   "metadata": {},
   "outputs": [
    {
     "name": "stdout",
     "output_type": "stream",
     "text": [
      "Matriz de Confusión:\n",
      "[[11  1  0  1  4  0  0  0  1  2]\n",
      " [10  2  0  3  7  0  0  0  1  7]\n",
      " [ 5  3  1  3  1  0  1  0  3  5]\n",
      " [ 4  2  0  6  3  1  0  1  3  8]\n",
      " [ 5  1  0  4  6  1  0  0  2  3]\n",
      " [ 3  0  0  2  2 10  0  3  8  1]\n",
      " [ 8  1  0  4  5  0  2  0  2  5]\n",
      " [ 1  0  0  0  0  0  0 13  0  3]\n",
      " [ 5  1  2  0  7  3  0  0  6  0]\n",
      " [ 5  1  1  6 10  0  0  0  1  7]]\n",
      "\n",
      "Informe de Clasificación:\n",
      "              precision    recall  f1-score   support\n",
      "\n",
      "         1.0       0.19      0.55      0.29        20\n",
      "         2.0       0.17      0.07      0.10        30\n",
      "         3.0       0.25      0.05      0.08        22\n",
      "         4.0       0.21      0.21      0.21        28\n",
      "         5.0       0.13      0.27      0.18        22\n",
      "         6.0       0.67      0.34      0.45        29\n",
      "         7.0       0.67      0.07      0.13        27\n",
      "         8.0       0.76      0.76      0.76        17\n",
      "         9.0       0.22      0.25      0.24        24\n",
      "        10.0       0.17      0.23      0.19        31\n",
      "\n",
      "    accuracy                           0.26       250\n",
      "   macro avg       0.34      0.28      0.26       250\n",
      "weighted avg       0.34      0.26      0.25       250\n",
      "\n"
     ]
    }
   ],
   "source": [
    "# knn libreria\n",
    "\n",
    "# Importando las bibliotecas necesarias\n",
    "import pandas as pd\n",
    "from sklearn.model_selection import train_test_split\n",
    "from sklearn.neighbors import KNeighborsClassifier\n",
    "from sklearn.metrics import confusion_matrix, classification_report\n",
    "\n",
    "# Cargando el conjunto de datos de mariposas\n",
    "data_mariposas = pd.read_csv('../Vectores_Caracteristicos_Mariposas.csv')\n",
    "\n",
    "# Dividiendo el conjunto de datos en características (X) y etiquetas (y)\n",
    "X_mariposas = data_mariposas.drop('Etiqueta', axis=1).values\n",
    "y_mariposas = data_mariposas['Etiqueta'].values\n",
    "\n",
    "# Dividiendo el conjunto de datos en conjuntos de entrenamiento y prueba\n",
    "X_train_mariposas, X_test_mariposas, y_train_mariposas, y_test_mariposas = train_test_split(X_mariposas, y_mariposas, test_size=0.3, random_state=42)\n",
    "\n",
    "# Definiendo el algoritmo k-NN\n",
    "algoritmo_mariposas = KNeighborsClassifier(n_neighbors=5, metric='minkowski', p=2)\n",
    "\n",
    "# Entrenando el modelo\n",
    "algoritmo_mariposas.fit(X_train_mariposas, y_train_mariposas)\n",
    "\n",
    "# Haciendo predicciones\n",
    "y_pred_mariposas = algoritmo_mariposas.predict(X_test_mariposas)\n",
    "\n",
    "# Obteniendo la matriz de confusión\n",
    "matriz_confusion_mariposas = confusion_matrix(y_test_mariposas, y_pred_mariposas)\n",
    "\n",
    "# Calculando el informe de clasificación\n",
    "report_mariposas = classification_report(y_test_mariposas, y_pred_mariposas)\n",
    "\n",
    "# Imprimiendo los resultados\n",
    "print(\"Matriz de Confusión:\")\n",
    "print(matriz_confusion_mariposas)\n",
    "print(\"\\nInforme de Clasificación:\")\n",
    "print(report_mariposas)\n"
   ]
  }
 ],
 "metadata": {
  "kernelspec": {
   "display_name": "Python 3",
   "language": "python",
   "name": "python3"
  },
  "language_info": {
   "codemirror_mode": {
    "name": "ipython",
    "version": 3
   },
   "file_extension": ".py",
   "mimetype": "text/x-python",
   "name": "python",
   "nbconvert_exporter": "python",
   "pygments_lexer": "ipython3",
   "version": "3.10.0"
  },
  "orig_nbformat": 4
 },
 "nbformat": 4,
 "nbformat_minor": 2
}
