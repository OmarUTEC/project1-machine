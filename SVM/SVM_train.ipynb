{
 "cells": [
  {
   "cell_type": "code",
   "execution_count": 3,
   "metadata": {},
   "outputs": [],
   "source": [
    "# Importando las bibliotecas necesarias\n",
    "import pandas as pd\n",
    "from sklearn.model_selection import train_test_split\n",
    "from sklearn.neighbors import KNeighborsClassifier\n",
    "from sklearn.metrics import confusion_matrix, classification_report\n",
    "import SVM as svmf\n",
    "import numpy as np"
   ]
  },
  {
   "cell_type": "code",
   "execution_count": 4,
   "metadata": {},
   "outputs": [],
   "source": [
    "\n",
    "def loss(y, x, w, bias, c):\n",
    "  hinge_loss = c * np.sum(np.maximum(0, 1 - y * (np.dot(x, w) + bias)))\n",
    "  regularization_term = np.dot(w, w)/2\n",
    "  return hinge_loss + regularization_term\n",
    "\n",
    "def grad(y, x, w, bias, c):\n",
    "  grad=[]\n",
    "  if(y*(np.dot(x,w)+bias)>=1):\n",
    "    grad.append(w)\n",
    "    grad.append(0)\n",
    "  else:\n",
    "    grad.append(w - c*x*y)\n",
    "    grad.append(-c*y)\n",
    "  return grad\n",
    "\n",
    "def update(w, b, grad, alpha):\n",
    "    w -= alpha * grad[0]\n",
    "    b -= alpha * grad[1]\n",
    "    return w, b\n",
    "\n",
    "class SVM:\n",
    "    def __init__(self,C,epocas,alpha):\n",
    "       self.C=C\n",
    "       self.epocas=epocas \n",
    "       self.alpha=alpha\n",
    "\n",
    "    def fit(self,x,y):\n",
    "        self.clases = np.unique(y)\n",
    "        self.clasicados = {}\n",
    "\n",
    "        for class_label in self.clases:\n",
    "            y_binario = np.where(y == class_label, 1, -1)\n",
    "            clasificacion = self.train(x, y_binario)\n",
    "            self.clasicados[class_label] = clasificacion\n",
    "\n",
    "    def train(self,x,y):\n",
    "        numero_ejemplos, num_caracteristicas = x.shape\n",
    "        w = np.zeros(num_caracteristicas)\n",
    "        bias = 0\n",
    "\n",
    "        for e in range(self.epocas):\n",
    "            for i in range(numero_ejemplos):\n",
    "                condition = y[i] * (np.dot(x[i], w) - bias) >= 1\n",
    "                if condition:\n",
    "                    w -= self.alpha * (2 * self.C * w)\n",
    "                else:\n",
    "                    w -= self.alpha * (2 * self.C * w - np.dot(x[i], y[i]))\n",
    "                    bias -= self.alpha * y[i]\n",
    "\n",
    "        return (w, bias)\n",
    "               \n",
    "    def prediccion(self, x):\n",
    "        predicciones = []\n",
    "\n",
    "        for i in range(x.shape[0]):\n",
    "            scores = {}\n",
    "            for clase, classifier in self.clasicados.items():\n",
    "                weights, bias = classifier\n",
    "                score = np.dot(x[i], weights) - bias\n",
    "                scores[clase] = score\n",
    "\n",
    "            predicted_class = max(scores, key=scores.get)\n",
    "            predicciones.append(predicted_class)\n",
    "\n",
    "        return np.array(predicciones)   "
   ]
  },
  {
   "cell_type": "code",
   "execution_count": 5,
   "metadata": {},
   "outputs": [],
   "source": [
    "def acuary(y_prueba,y_correct):\n",
    "    correctos= np.sum(y_prueba == y_correct)\n",
    "    return (correctos/len(y_correct))*100      "
   ]
  },
  {
   "cell_type": "code",
   "execution_count": 7,
   "metadata": {},
   "outputs": [
    {
     "name": "stdout",
     "output_type": "stream",
     "text": [
      "Precisión en el conjunto de validación: 24.00\n"
     ]
    }
   ],
   "source": [
    "# Cargando el conjunto de datos de mariposas\n",
    "data_mariposas = pd.read_csv('../Vectores_Caracteristicos_Mariposas.csv')\n",
    "\n",
    "# Dividiendo el conjunto de datos en características (X) y etiquetas (y)\n",
    "X_mariposas = data_mariposas.drop('Etiqueta', axis=1).values\n",
    "y_mariposas = data_mariposas['Etiqueta'].values\n",
    "\n",
    "# Dividiendo el conjunto de datos en conjuntos de entrenamiento y prueba\n",
    "X_train_mariposas, X_test_mariposas, y_train_mariposas, y_test_mariposas = train_test_split(X_mariposas, y_mariposas, test_size=0.3, random_state=42)\n",
    "\n",
    "modelo = SVM(1,300,0.00001)\n",
    "modelo.fit(X_train_mariposas, y_train_mariposas)\n",
    "\n",
    "y_pred_val = modelo.prediccion(X_test_mariposas)\n",
    "precision_val=acuary(y_test_mariposas,y_pred_val)\n",
    "\n",
    "print(f\"Precisión en el conjunto de validación: {precision_val:.2f}\")\n"
   ]
  }
 ],
 "metadata": {
  "kernelspec": {
   "display_name": "base",
   "language": "python",
   "name": "python3"
  },
  "language_info": {
   "codemirror_mode": {
    "name": "ipython",
    "version": 3
   },
   "file_extension": ".py",
   "mimetype": "text/x-python",
   "name": "python",
   "nbconvert_exporter": "python",
   "pygments_lexer": "ipython3",
   "version": "3.11.4"
  },
  "orig_nbformat": 4
 },
 "nbformat": 4,
 "nbformat_minor": 2
}
