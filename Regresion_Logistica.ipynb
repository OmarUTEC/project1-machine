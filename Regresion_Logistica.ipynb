{
 "cells": [
  {
   "cell_type": "markdown",
   "metadata": {},
   "source": [
    "# Librerias"
   ]
  },
  {
   "cell_type": "code",
   "execution_count": 10,
   "metadata": {},
   "outputs": [],
   "source": [
    "import numpy as np\n",
    "import matplotlib.pyplot as plt\n",
    "import pandas as pd"
   ]
  },
  {
   "cell_type": "markdown",
   "metadata": {},
   "source": [
    "# Extraer Data"
   ]
  },
  {
   "cell_type": "code",
   "execution_count": 11,
   "metadata": {},
   "outputs": [],
   "source": [
    "dataset = pd.read_csv('Vectores_Caracteristicos_Mariposas.csv')\n",
    "\n",
    "X = dataset[dataset.columns]\n",
    "X.insert(0,\"bias\",1)\n",
    "Y = dataset[\"Etiqueta\"]\n",
    "\n",
    "\n",
    "#print(X)\n",
    "\n"
   ]
  },
  {
   "cell_type": "markdown",
   "metadata": {},
   "source": [
    "# Hipotesis\n",
    "\n",
    "- Ecuación de la recta o Hiperplano\n",
    "\\begin{equation}\n",
    "h(x_i) = w_0 + w_1x_i^1 +  w_2x_i^2 ... w_kx_i^k\n",
    "\\end{equation} \\\\\n",
    "\n",
    "- Ecuación de la función sigmoidea (clasificador binario)\n",
    "\\begin{equation}\n",
    "s(x_i) = \\frac{1}{1 + e^{-h(x)}}\n",
    "\\end{equation}"
   ]
  },
  {
   "cell_type": "code",
   "execution_count": 12,
   "metadata": {},
   "outputs": [],
   "source": [
    "def h(X , W ):\n",
    "    return np.dot(X,W.T)\n",
    "\n",
    "def s(X, W):\n",
    "    return 1 / (1 + np.exp(-h(X,W)))"
   ]
  },
  {
   "cell_type": "markdown",
   "metadata": {},
   "source": [
    "- **Loss Function** (Cross-Entropy)\n",
    "\n",
    "\\begin{equation}\n",
    "L = -\\frac{1}{n}\\sum_{i=0}^n(y_ilog(s(x_i)) + (1-y_i)log(1-s(x_i)))  \n",
    "\\end{equation} \\\\\n"
   ]
  },
  {
   "cell_type": "code",
   "execution_count": 6,
   "metadata": {},
   "outputs": [],
   "source": [
    "def Loss(X,Y,W):\n",
    "    n = len(X)\n",
    "    return - 1/ n * (np.matmul(Y,np.log(s(X,W))) + np.matmul(1-Y, np.log( 1 - s(X,W))) )"
   ]
  },
  {
   "cell_type": "markdown",
   "metadata": {},
   "source": [
    "- **Derivatives**\n",
    "\n",
    "\\begin{equation}\n",
    "\\frac{\\partial L}{\\partial w_j} = \\frac{1}{n}\\sum_{i=0}^n(y_i - s(x_i))(-x_i^j)\n",
    "\\end{equation} \\\\\n",
    "\n",
    "Nota:  $x_i^j$ se refiere a la característica $j-esima$ del objeto $i-esimo$ de entrenamiento\n"
   ]
  },
  {
   "cell_type": "code",
   "execution_count": 13,
   "metadata": {},
   "outputs": [],
   "source": [
    "def Derivatives(X,Y,W):\n",
    "    n = len(X)\n",
    "\n",
    "    dw = 1/n * np.matmul(Y - s(X,W),(-X))\n",
    "\n",
    "    return dw\n"
   ]
  },
  {
   "cell_type": "markdown",
   "metadata": {},
   "source": [
    "- Change parameters\n",
    "\n",
    "\\begin{equation}\n",
    " w_j = w_i - \\alpha\\frac{\\partial L}{\\partial w_j}\n",
    "\\end{equation}"
   ]
  },
  {
   "cell_type": "code",
   "execution_count": 14,
   "metadata": {},
   "outputs": [],
   "source": [
    "def ChangeParameters(W , Derivatives, alpha):\n",
    "    return  W - alpha * Derivatives\n",
    "    "
   ]
  },
  {
   "cell_type": "code",
   "execution_count": 18,
   "metadata": {},
   "outputs": [],
   "source": [
    "import numpy as np\n",
    "from sklearn.model_selection import train_test_split\n",
    "\n",
    "\n",
    "def train(X, Y, epochs, alfa):\n",
    "    W = np.random.random(X.shape[1]) #Genera 2 numeros ya que el nmero de columnas es de 2\n",
    "    L = Loss(X,W,Y)\n",
    "    loss = []\n",
    "    for i in range(epochs):\n",
    "        DW = Derivatives(X,Y,W)\n",
    "        W = ChangeParameters(W,DW,alfa)\n",
    "        L = Loss(X,Y,W)\n",
    "        loss.append(L)\n",
    "        if ((i%1000)==0):\n",
    "          print(\"loss value error :\" + str(L))\n",
    "    return W, loss\n",
    "\n",
    "\n",
    "\n",
    "def Plot_Loss(epochs,loss):\n",
    "   plt.plot(range(epochs), loss)\n"
   ]
  },
  {
   "cell_type": "code",
   "execution_count": 19,
   "metadata": {},
   "outputs": [
    {
     "ename": "ValueError",
     "evalue": "shapes (832,578) and (832,) not aligned: 578 (dim 1) != 832 (dim 0)",
     "output_type": "error",
     "traceback": [
      "\u001b[1;31m---------------------------------------------------------------------------\u001b[0m",
      "\u001b[1;31mValueError\u001b[0m                                Traceback (most recent call last)",
      "\u001b[1;32mc:\\Users\\Familia\\Desktop\\Tienda de Ropa Ligante\\project1-machine\\Regresion_Logistica.ipynb Cell 14\u001b[0m line \u001b[0;36m1\n\u001b[1;32m----> <a href='vscode-notebook-cell:/c%3A/Users/Familia/Desktop/Tienda%20de%20Ropa%20Ligante/project1-machine/Regresion_Logistica.ipynb#X20sZmlsZQ%3D%3D?line=0'>1</a>\u001b[0m W , L\u001b[39m=\u001b[39m train(X, Y, \u001b[39m1000\u001b[39;49m,  \u001b[39m0.001\u001b[39;49m)\n",
      "\u001b[1;32mc:\\Users\\Familia\\Desktop\\Tienda de Ropa Ligante\\project1-machine\\Regresion_Logistica.ipynb Cell 14\u001b[0m line \u001b[0;36m7\n\u001b[0;32m      <a href='vscode-notebook-cell:/c%3A/Users/Familia/Desktop/Tienda%20de%20Ropa%20Ligante/project1-machine/Regresion_Logistica.ipynb#X20sZmlsZQ%3D%3D?line=4'>5</a>\u001b[0m \u001b[39mdef\u001b[39;00m \u001b[39mtrain\u001b[39m(X, Y, epochs, alfa):\n\u001b[0;32m      <a href='vscode-notebook-cell:/c%3A/Users/Familia/Desktop/Tienda%20de%20Ropa%20Ligante/project1-machine/Regresion_Logistica.ipynb#X20sZmlsZQ%3D%3D?line=5'>6</a>\u001b[0m     W \u001b[39m=\u001b[39m np\u001b[39m.\u001b[39mrandom\u001b[39m.\u001b[39mrandom(X\u001b[39m.\u001b[39mshape[\u001b[39m1\u001b[39m]) \u001b[39m#Genera 2 numeros ya que el nmero de columnas es de 2\u001b[39;00m\n\u001b[1;32m----> <a href='vscode-notebook-cell:/c%3A/Users/Familia/Desktop/Tienda%20de%20Ropa%20Ligante/project1-machine/Regresion_Logistica.ipynb#X20sZmlsZQ%3D%3D?line=6'>7</a>\u001b[0m     L \u001b[39m=\u001b[39m Loss(X,W,Y)\n\u001b[0;32m      <a href='vscode-notebook-cell:/c%3A/Users/Familia/Desktop/Tienda%20de%20Ropa%20Ligante/project1-machine/Regresion_Logistica.ipynb#X20sZmlsZQ%3D%3D?line=7'>8</a>\u001b[0m     loss \u001b[39m=\u001b[39m []\n\u001b[0;32m      <a href='vscode-notebook-cell:/c%3A/Users/Familia/Desktop/Tienda%20de%20Ropa%20Ligante/project1-machine/Regresion_Logistica.ipynb#X20sZmlsZQ%3D%3D?line=8'>9</a>\u001b[0m     \u001b[39mfor\u001b[39;00m i \u001b[39min\u001b[39;00m \u001b[39mrange\u001b[39m(epochs):\n",
      "\u001b[1;32mc:\\Users\\Familia\\Desktop\\Tienda de Ropa Ligante\\project1-machine\\Regresion_Logistica.ipynb Cell 14\u001b[0m line \u001b[0;36m3\n\u001b[0;32m      <a href='vscode-notebook-cell:/c%3A/Users/Familia/Desktop/Tienda%20de%20Ropa%20Ligante/project1-machine/Regresion_Logistica.ipynb#X20sZmlsZQ%3D%3D?line=0'>1</a>\u001b[0m \u001b[39mdef\u001b[39;00m \u001b[39mLoss\u001b[39m(X,Y,W):\n\u001b[0;32m      <a href='vscode-notebook-cell:/c%3A/Users/Familia/Desktop/Tienda%20de%20Ropa%20Ligante/project1-machine/Regresion_Logistica.ipynb#X20sZmlsZQ%3D%3D?line=1'>2</a>\u001b[0m     n \u001b[39m=\u001b[39m \u001b[39mlen\u001b[39m(X)\n\u001b[1;32m----> <a href='vscode-notebook-cell:/c%3A/Users/Familia/Desktop/Tienda%20de%20Ropa%20Ligante/project1-machine/Regresion_Logistica.ipynb#X20sZmlsZQ%3D%3D?line=2'>3</a>\u001b[0m     \u001b[39mreturn\u001b[39;00m \u001b[39m-\u001b[39m \u001b[39m1\u001b[39m\u001b[39m/\u001b[39m n \u001b[39m*\u001b[39m (np\u001b[39m.\u001b[39mmatmul(Y,np\u001b[39m.\u001b[39mlog(s(X,W))) \u001b[39m+\u001b[39m np\u001b[39m.\u001b[39mmatmul(\u001b[39m1\u001b[39m\u001b[39m-\u001b[39mY, np\u001b[39m.\u001b[39mlog( \u001b[39m1\u001b[39m \u001b[39m-\u001b[39m s(X,W))) )\n",
      "\u001b[1;32mc:\\Users\\Familia\\Desktop\\Tienda de Ropa Ligante\\project1-machine\\Regresion_Logistica.ipynb Cell 14\u001b[0m line \u001b[0;36m5\n\u001b[0;32m      <a href='vscode-notebook-cell:/c%3A/Users/Familia/Desktop/Tienda%20de%20Ropa%20Ligante/project1-machine/Regresion_Logistica.ipynb#X20sZmlsZQ%3D%3D?line=3'>4</a>\u001b[0m \u001b[39mdef\u001b[39;00m \u001b[39ms\u001b[39m(X, W):\n\u001b[1;32m----> <a href='vscode-notebook-cell:/c%3A/Users/Familia/Desktop/Tienda%20de%20Ropa%20Ligante/project1-machine/Regresion_Logistica.ipynb#X20sZmlsZQ%3D%3D?line=4'>5</a>\u001b[0m     \u001b[39mreturn\u001b[39;00m \u001b[39m1\u001b[39m \u001b[39m/\u001b[39m (\u001b[39m1\u001b[39m \u001b[39m+\u001b[39m np\u001b[39m.\u001b[39mexp(\u001b[39m-\u001b[39mh(X,W)))\n",
      "\u001b[1;32mc:\\Users\\Familia\\Desktop\\Tienda de Ropa Ligante\\project1-machine\\Regresion_Logistica.ipynb Cell 14\u001b[0m line \u001b[0;36m2\n\u001b[0;32m      <a href='vscode-notebook-cell:/c%3A/Users/Familia/Desktop/Tienda%20de%20Ropa%20Ligante/project1-machine/Regresion_Logistica.ipynb#X20sZmlsZQ%3D%3D?line=0'>1</a>\u001b[0m \u001b[39mdef\u001b[39;00m \u001b[39mh\u001b[39m(X , W ):\n\u001b[1;32m----> <a href='vscode-notebook-cell:/c%3A/Users/Familia/Desktop/Tienda%20de%20Ropa%20Ligante/project1-machine/Regresion_Logistica.ipynb#X20sZmlsZQ%3D%3D?line=1'>2</a>\u001b[0m     \u001b[39mreturn\u001b[39;00m np\u001b[39m.\u001b[39;49mdot(X,W\u001b[39m.\u001b[39;49mT)\n",
      "\u001b[1;31mValueError\u001b[0m: shapes (832,578) and (832,) not aligned: 578 (dim 1) != 832 (dim 0)"
     ]
    }
   ],
   "source": [
    "\n",
    "W , L= train(X, Y, 1000,  0.001)"
   ]
  }
 ],
 "metadata": {
  "kernelspec": {
   "display_name": "Python 3",
   "language": "python",
   "name": "python3"
  },
  "language_info": {
   "codemirror_mode": {
    "name": "ipython",
    "version": 3
   },
   "file_extension": ".py",
   "mimetype": "text/x-python",
   "name": "python",
   "nbconvert_exporter": "python",
   "pygments_lexer": "ipython3",
   "version": "3.11.5"
  },
  "orig_nbformat": 4
 },
 "nbformat": 4,
 "nbformat_minor": 2
}
