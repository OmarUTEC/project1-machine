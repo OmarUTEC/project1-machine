{
 "cells": [
  {
   "cell_type": "markdown",
   "metadata": {},
   "source": [
    "# Decision Tree"
   ]
  },
  {
   "cell_type": "code",
   "execution_count": 90,
   "metadata": {},
   "outputs": [],
   "source": [
    "from sklearn.tree import DecisionTreeClassifier\n",
    "import numpy as np\n",
    "import pandas as pd\n",
    "from sklearn.model_selection import (\n",
    "    cross_val_score,\n",
    "    KFold,\n",
    "    cross_val_predict,\n",
    "    GridSearchCV,\n",
    "    cross_validate,\n",
    ")\n",
    "from sklearn import tree\n",
    "from sklearn.model_selection import train_test_split\n",
    "from sklearn.metrics import (\n",
    "    accuracy_score,\n",
    "    confusion_matrix,\n",
    "    precision_score,\n",
    "    f1_score,\n",
    "    recall_score,\n",
    "    classification_report,\n",
    ")\n",
    "import matplotlib.pyplot as plt\n",
    "import seaborn as sns"
   ]
  },
  {
   "cell_type": "code",
   "execution_count": 91,
   "metadata": {},
   "outputs": [],
   "source": [
    "def train_test_validation_split(\n",
    "    x: pd.DataFrame,\n",
    "    y: pd.Series,\n",
    "    train_size: float = 0.7,\n",
    "    test_size: float = 0.15,\n",
    "    validation_size: float = 0.15,\n",
    ") -> tuple[pd.DataFrame, pd.DataFrame, pd.DataFrame, pd.Series, pd.Series, pd.Series]:\n",
    "    \"\"\"Split data into fixed train, test and validation subsets.\"\"\"\n",
    "    x_train, x_test, y_train, y_test = train_test_split(\n",
    "        x,\n",
    "        y,\n",
    "        train_size=train_size,\n",
    "        test_size=test_size + validation_size,\n",
    "        random_state=42,\n",
    "    )\n",
    "    x_test, x_validation, y_test, y_validation = train_test_split(\n",
    "        x_test,\n",
    "        y_test,\n",
    "        train_size=test_size / (test_size + validation_size),\n",
    "        test_size=validation_size / (test_size + validation_size),\n",
    "        random_state=42,\n",
    "    )\n",
    "    return x_train, x_test, x_validation, y_train, y_test, y_validation"
   ]
  },
  {
   "cell_type": "code",
   "execution_count": 92,
   "metadata": {},
   "outputs": [],
   "source": [
    "df: pd.DataFrame = pd.read_csv(\"../Vectores_Caracteristicos_Mariposas.csv\")\n",
    "x: pd.DataFrame = df.drop(\"Etiqueta\", axis=1)\n",
    "y: pd.Series = df[\"Etiqueta\"].astype(int)\n",
    "\n",
    "(\n",
    "    x_train,\n",
    "    x_test,\n",
    "    y_train,\n",
    "    y_test,\n",
    ") = train_test_split(x, y, random_state=42)"
   ]
  },
  {
   "cell_type": "markdown",
   "metadata": {},
   "source": [
    "# Hiperparámetros"
   ]
  },
  {
   "cell_type": "code",
   "execution_count": 93,
   "metadata": {},
   "outputs": [
    {
     "name": "stdout",
     "output_type": "stream",
     "text": [
      "{'criterion': 'gini'}\n"
     ]
    },
    {
     "data": {
      "text/html": [
       "<div>\n",
       "<style scoped>\n",
       "    .dataframe tbody tr th:only-of-type {\n",
       "        vertical-align: middle;\n",
       "    }\n",
       "\n",
       "    .dataframe tbody tr th {\n",
       "        vertical-align: top;\n",
       "    }\n",
       "\n",
       "    .dataframe thead th {\n",
       "        text-align: right;\n",
       "    }\n",
       "</style>\n",
       "<table border=\"1\" class=\"dataframe\">\n",
       "  <thead>\n",
       "    <tr style=\"text-align: right;\">\n",
       "      <th></th>\n",
       "      <th>mean_fit_time</th>\n",
       "      <th>std_fit_time</th>\n",
       "      <th>mean_score_time</th>\n",
       "      <th>std_score_time</th>\n",
       "      <th>param_criterion</th>\n",
       "      <th>params</th>\n",
       "      <th>split0_test_precision_macro</th>\n",
       "      <th>split1_test_precision_macro</th>\n",
       "      <th>split2_test_precision_macro</th>\n",
       "      <th>split3_test_precision_macro</th>\n",
       "      <th>...</th>\n",
       "      <th>std_test_recall_macro</th>\n",
       "      <th>rank_test_recall_macro</th>\n",
       "      <th>split0_test_f1_macro</th>\n",
       "      <th>split1_test_f1_macro</th>\n",
       "      <th>split2_test_f1_macro</th>\n",
       "      <th>split3_test_f1_macro</th>\n",
       "      <th>split4_test_f1_macro</th>\n",
       "      <th>mean_test_f1_macro</th>\n",
       "      <th>std_test_f1_macro</th>\n",
       "      <th>rank_test_f1_macro</th>\n",
       "    </tr>\n",
       "  </thead>\n",
       "  <tbody>\n",
       "    <tr>\n",
       "      <th>0</th>\n",
       "      <td>0.161637</td>\n",
       "      <td>0.005240</td>\n",
       "      <td>0.003262</td>\n",
       "      <td>0.000159</td>\n",
       "      <td>gini</td>\n",
       "      <td>{'criterion': 'gini'}</td>\n",
       "      <td>0.301049</td>\n",
       "      <td>0.317859</td>\n",
       "      <td>0.343628</td>\n",
       "      <td>0.228794</td>\n",
       "      <td>...</td>\n",
       "      <td>0.028261</td>\n",
       "      <td>1</td>\n",
       "      <td>0.279728</td>\n",
       "      <td>0.313682</td>\n",
       "      <td>0.300272</td>\n",
       "      <td>0.240899</td>\n",
       "      <td>0.330072</td>\n",
       "      <td>0.292930</td>\n",
       "      <td>0.030808</td>\n",
       "      <td>1</td>\n",
       "    </tr>\n",
       "    <tr>\n",
       "      <th>1</th>\n",
       "      <td>0.282306</td>\n",
       "      <td>0.006024</td>\n",
       "      <td>0.003236</td>\n",
       "      <td>0.000072</td>\n",
       "      <td>entropy</td>\n",
       "      <td>{'criterion': 'entropy'}</td>\n",
       "      <td>0.316910</td>\n",
       "      <td>0.299122</td>\n",
       "      <td>0.266821</td>\n",
       "      <td>0.267202</td>\n",
       "      <td>...</td>\n",
       "      <td>0.030737</td>\n",
       "      <td>2</td>\n",
       "      <td>0.294338</td>\n",
       "      <td>0.299370</td>\n",
       "      <td>0.244689</td>\n",
       "      <td>0.274800</td>\n",
       "      <td>0.254760</td>\n",
       "      <td>0.273591</td>\n",
       "      <td>0.021384</td>\n",
       "      <td>2</td>\n",
       "    </tr>\n",
       "  </tbody>\n",
       "</table>\n",
       "<p>2 rows × 30 columns</p>\n",
       "</div>"
      ],
      "text/plain": [
       "   mean_fit_time  std_fit_time  mean_score_time  std_score_time  \\\n",
       "0       0.161637      0.005240         0.003262        0.000159   \n",
       "1       0.282306      0.006024         0.003236        0.000072   \n",
       "\n",
       "  param_criterion                    params  split0_test_precision_macro  \\\n",
       "0            gini     {'criterion': 'gini'}                     0.301049   \n",
       "1         entropy  {'criterion': 'entropy'}                     0.316910   \n",
       "\n",
       "   split1_test_precision_macro  split2_test_precision_macro  \\\n",
       "0                     0.317859                     0.343628   \n",
       "1                     0.299122                     0.266821   \n",
       "\n",
       "   split3_test_precision_macro  ...  std_test_recall_macro  \\\n",
       "0                     0.228794  ...               0.028261   \n",
       "1                     0.267202  ...               0.030737   \n",
       "\n",
       "   rank_test_recall_macro  split0_test_f1_macro  split1_test_f1_macro  \\\n",
       "0                       1              0.279728              0.313682   \n",
       "1                       2              0.294338              0.299370   \n",
       "\n",
       "   split2_test_f1_macro  split3_test_f1_macro  split4_test_f1_macro  \\\n",
       "0              0.300272              0.240899              0.330072   \n",
       "1              0.244689              0.274800              0.254760   \n",
       "\n",
       "   mean_test_f1_macro  std_test_f1_macro  rank_test_f1_macro  \n",
       "0            0.292930           0.030808                   1  \n",
       "1            0.273591           0.021384                   2  \n",
       "\n",
       "[2 rows x 30 columns]"
      ]
     },
     "execution_count": 93,
     "metadata": {},
     "output_type": "execute_result"
    }
   ],
   "source": [
    "dtc = DecisionTreeClassifier(criterion=\"entropy\", random_state=42)\n",
    "\n",
    "cv = GridSearchCV(\n",
    "    dtc,\n",
    "    param_grid={\n",
    "        \"criterion\": [\"gini\", \"entropy\"],\n",
    "    },\n",
    "    scoring=[\"precision_macro\", \"recall_macro\", \"f1_macro\"],\n",
    "    refit=\"f1_macro\",\n",
    "    cv=5,\n",
    ")\n",
    "\n",
    "cv.fit(x_train, y_train)\n",
    "print(cv.best_params_)\n",
    "df = pd.DataFrame(cv.cv_results_)\n",
    "df"
   ]
  },
  {
   "cell_type": "markdown",
   "metadata": {},
   "source": [
    "# 5-Fold Cross Validation"
   ]
  },
  {
   "cell_type": "code",
   "execution_count": 94,
   "metadata": {},
   "outputs": [
    {
     "name": "stdout",
     "output_type": "stream",
     "text": [
      "   fit_time  score_time  test_precision_macro  test_recall_macro  \\\n",
      "0  0.187152    0.004134              0.344437           0.342867   \n",
      "1  0.190620    0.003916              0.378490           0.298106   \n",
      "2  0.194234    0.004274              0.316498           0.322346   \n",
      "3  0.185122    0.003824              0.371060           0.348054   \n",
      "4  0.188138    0.003799              0.290250           0.316166   \n",
      "\n",
      "   test_f1_macro  \n",
      "0       0.342329  \n",
      "1       0.315093  \n",
      "2       0.312768  \n",
      "3       0.352138  \n",
      "4       0.297756  \n"
     ]
    }
   ],
   "source": [
    "dtc = DecisionTreeClassifier(criterion=\"gini\", random_state=42,  max_depth=10, min_samples_leaf=8, min_samples_split=2)\n",
    "\n",
    "scores: dict = cross_validate(\n",
    "    dtc,\n",
    "    x,\n",
    "    y,\n",
    "    cv=5,\n",
    "    scoring=[\"precision_macro\", \"recall_macro\", \"f1_macro\"],\n",
    "    n_jobs=5,\n",
    ")\n",
    "\n",
    "a = pd.DataFrame(scores)\n",
    "print(a)"
   ]
  },
  {
   "cell_type": "code",
   "execution_count": 95,
   "metadata": {},
   "outputs": [
    {
     "name": "stdout",
     "output_type": "stream",
     "text": [
      "Precision:  0.28238580263805735\n",
      "Recall:  0.2762452635084214\n",
      "F1:  0.2774925178076225\n"
     ]
    }
   ],
   "source": [
    "dtc = DecisionTreeClassifier(criterion=\"gini\", random_state=42)\n",
    "dtc.fit(x_train, y_train)\n",
    "\n",
    "predictions = dtc.predict(x_test)\n",
    "\n",
    "precision = precision_score(y_test, predictions, average=\"macro\")\n",
    "recall = recall_score(y_test, predictions, average=\"macro\")\n",
    "f1 = f1_score(y_test, predictions, average=\"macro\")\n",
    "\n",
    "print(\"Precision: \", precision)\n",
    "print(\"Recall: \", recall)\n",
    "print(\"F1: \", f1)\n",
    "\n",
    "# print(classification_report(y_test, predictions))"
   ]
  },
  {
   "cell_type": "code",
   "execution_count": 97,
   "metadata": {},
   "outputs": [
    {
     "data": {
      "text/plain": [
       "<sklearn.metrics._plot.confusion_matrix.ConfusionMatrixDisplay at 0x17da7bc10>"
      ]
     },
     "execution_count": 97,
     "metadata": {},
     "output_type": "execute_result"
    },
    {
     "data": {
      "image/png": "[encoded data removed]",
      "text/plain": [
       "<Figure size 640x480 with 2 Axes>"
      ]
     },
     "metadata": {},
     "output_type": "display_data"
    }
   ],
   "source": [
    "from sklearn.metrics import ConfusionMatrixDisplay\n",
    "\n",
    "ConfusionMatrixDisplay(confusion_matrix(y_test, predictions), display_labels=dtc.classes_).plot()"
   ]
  }
 ],
 "metadata": {
  "kernelspec": {
   "display_name": "Python 3",
   "language": "python",
   "name": "python3"
  },
  "language_info": {
   "codemirror_mode": {
    "name": "ipython",
    "version": 3
   },
   "file_extension": ".py",
   "mimetype": "text/x-python",
   "name": "python",
   "nbconvert_exporter": "python",
   "pygments_lexer": "ipython3",
   "version": "3.11.5"
  },
  "orig_nbformat": 4
 },
 "nbformat": 4,
 "nbformat_minor": 2
}
