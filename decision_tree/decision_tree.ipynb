{
 "cells": [
  {
   "cell_type": "markdown",
   "metadata": {},
   "source": [
    "# Decision Tree"
   ]
  },
  {
   "cell_type": "code",
   "execution_count": 203,
   "metadata": {},
   "outputs": [],
   "source": [
    "from sklearn.tree import DecisionTreeClassifier\n",
    "import numpy as np\n",
    "import pandas as pd\n",
    "from sklearn.model_selection import (\n",
    "    cross_val_score,\n",
    "    KFold,\n",
    "    cross_val_predict,\n",
    "    GridSearchCV,\n",
    "    cross_validate\n",
    ")\n",
    "from sklearn import tree\n",
    "from sklearn.model_selection import train_test_split\n",
    "from sklearn.metrics import (\n",
    "    accuracy_score,\n",
    "    confusion_matrix,\n",
    "    precision_score,\n",
    "    f1_score,\n",
    "    recall_score,\n",
    "    classification_report,\n",
    ")\n",
    "import matplotlib.pyplot as plt\n",
    "import seaborn as sns"
   ]
  },
  {
   "cell_type": "code",
   "execution_count": 204,
   "metadata": {},
   "outputs": [],
   "source": [
    "def train_test_validation_split(\n",
    "    x: pd.DataFrame,\n",
    "    y: pd.Series,\n",
    "    train_size: float = 0.7,\n",
    "    test_size: float = 0.15,\n",
    "    validation_size: float = 0.15,\n",
    ") -> tuple[pd.DataFrame, pd.DataFrame, pd.DataFrame, pd.Series, pd.Series, pd.Series]:\n",
    "    \"\"\"Split data into fixed train, test and validation subsets.\"\"\"\n",
    "    x_train, x_test, y_train, y_test = train_test_split(\n",
    "        x,\n",
    "        y,\n",
    "        train_size=train_size,\n",
    "        test_size=test_size + validation_size,\n",
    "        random_state=42,\n",
    "    )\n",
    "    x_test, x_validation, y_test, y_validation = train_test_split(\n",
    "        x_test,\n",
    "        y_test,\n",
    "        train_size=test_size / (test_size + validation_size),\n",
    "        test_size=validation_size / (test_size + validation_size),\n",
    "        random_state=42,\n",
    "    )\n",
    "    return x_train, x_test, x_validation, y_train, y_test, y_validation"
   ]
  },
  {
   "cell_type": "code",
   "execution_count": 205,
   "metadata": {},
   "outputs": [],
   "source": [
    "df: pd.DataFrame = pd.read_csv(\"../Vectores_Caracteristicos_Mariposas.csv\")\n",
    "x: pd.DataFrame = df.drop(\"Etiqueta\", axis=1)\n",
    "y: pd.Series = df[\"Etiqueta\"].astype(int)\n",
    "\n",
    "(\n",
    "    x_train,\n",
    "    x_test,\n",
    "    x_validation,\n",
    "    y_train,\n",
    "    y_test,\n",
    "    y_validation,\n",
    ") = train_test_validation_split(x, y)"
   ]
  },
  {
   "cell_type": "markdown",
   "metadata": {},
   "source": [
    "# 5-Fold Cross Validation"
   ]
  },
  {
   "cell_type": "code",
   "execution_count": 206,
   "metadata": {},
   "outputs": [
    {
     "name": "stdout",
     "output_type": "stream",
     "text": [
      "   fit_time  score_time  test_precision_macro  test_recall_macro  \\\n",
      "0  0.439038    0.008841              0.324597           0.304844   \n",
      "1  0.459321    0.008915              0.382698           0.358748   \n",
      "2  0.454387    0.008968              0.318687           0.308957   \n",
      "3  0.461971    0.009209              0.399177           0.365146   \n",
      "4  0.442946    0.008650              0.371769           0.366518   \n",
      "\n",
      "   test_f1_macro  \n",
      "0       0.309625  \n",
      "1       0.362150  \n",
      "2       0.311002  \n",
      "3       0.365168  \n",
      "4       0.362950  \n"
     ]
    }
   ],
   "source": [
    "dtc = DecisionTreeClassifier(criterion=\"entropy\", max_depth=10, random_state=42)\n",
    "\n",
    "scores: dict = cross_validate(\n",
    "    dtc,\n",
    "    x,\n",
    "    y,\n",
    "    cv=5,\n",
    "    scoring=[\"precision_macro\", \"recall_macro\", \"f1_macro\"],\n",
    "    n_jobs=5,\n",
    ")\n",
    "a = pd.DataFrame(scores)\n",
    "print(a)"
   ]
  }
 ],
 "metadata": {
  "kernelspec": {
   "display_name": "Python 3",
   "language": "python",
   "name": "python3"
  },
  "language_info": {
   "codemirror_mode": {
    "name": "ipython",
    "version": 3
   },
   "file_extension": ".py",
   "mimetype": "text/x-python",
   "name": "python",
   "nbconvert_exporter": "python",
   "pygments_lexer": "ipython3",
   "version": "3.11.5"
  },
  "orig_nbformat": 4
 },
 "nbformat": 4,
 "nbformat_minor": 2
}
